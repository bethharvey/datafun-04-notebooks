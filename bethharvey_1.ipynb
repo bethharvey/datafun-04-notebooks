{
 "cells": [
  {
   "cell_type": "markdown",
   "id": "8dbb596e-2ea5-4788-a4d0-a3aa5f5381cf",
   "metadata": {},
   "source": [
    "# Beth Harvey's Module 4 Project Part 1"
   ]
  },
  {
   "cell_type": "code",
   "execution_count": 1,
   "id": "9ae49d55-5e3f-42ea-8536-c8afd95bccfd",
   "metadata": {},
   "outputs": [],
   "source": [
    "import pandas as pd"
   ]
  },
  {
   "cell_type": "markdown",
   "id": "4507033e-a10d-46c0-ae45-68cbdb0c7cca",
   "metadata": {},
   "source": [
    "## Task 1 - Series"
   ]
  },
  {
   "cell_type": "code",
   "execution_count": 2,
   "id": "ae7c04ba-5cfa-40bf-ad99-dda7a7bc3e68",
   "metadata": {},
   "outputs": [],
   "source": [
    "grades = pd.Series([97, 82, 94, 90, 88])"
   ]
  },
  {
   "cell_type": "code",
   "execution_count": 3,
   "id": "20bba6fc-6496-47e3-8a1a-6f1764499f52",
   "metadata": {},
   "outputs": [
    {
     "data": {
      "text/plain": [
       "97"
      ]
     },
     "execution_count": 3,
     "metadata": {},
     "output_type": "execute_result"
    }
   ],
   "source": [
    "# Get first grade\n",
    "grades[0]"
   ]
  },
  {
   "cell_type": "code",
   "execution_count": 4,
   "id": "72da954e-31c0-44c9-b29b-d9adf01cdad7",
   "metadata": {},
   "outputs": [
    {
     "data": {
      "text/plain": [
       "5"
      ]
     },
     "execution_count": 4,
     "metadata": {},
     "output_type": "execute_result"
    }
   ],
   "source": [
    "# Get count, mean, min, max, std, and describe\n",
    "grades.count()"
   ]
  },
  {
   "cell_type": "code",
   "execution_count": 5,
   "id": "bdc3f81c-c104-4197-9385-5659b227665c",
   "metadata": {},
   "outputs": [
    {
     "data": {
      "text/plain": [
       "90.2"
      ]
     },
     "execution_count": 5,
     "metadata": {},
     "output_type": "execute_result"
    }
   ],
   "source": [
    "grades.mean()"
   ]
  },
  {
   "cell_type": "code",
   "execution_count": 6,
   "id": "1ceb4594-d7d8-4c8b-b16e-e30a1cc9d23e",
   "metadata": {},
   "outputs": [
    {
     "data": {
      "text/plain": [
       "82"
      ]
     },
     "execution_count": 6,
     "metadata": {},
     "output_type": "execute_result"
    }
   ],
   "source": [
    "grades.min()"
   ]
  },
  {
   "cell_type": "code",
   "execution_count": 7,
   "id": "e00d91b3-d112-47e7-b87a-6ea99fbe0f62",
   "metadata": {},
   "outputs": [
    {
     "data": {
      "text/plain": [
       "97"
      ]
     },
     "execution_count": 7,
     "metadata": {},
     "output_type": "execute_result"
    }
   ],
   "source": [
    "grades.max()"
   ]
  },
  {
   "cell_type": "code",
   "execution_count": 8,
   "id": "83d52ff8-58bd-401b-9fd0-94b97347f2bf",
   "metadata": {},
   "outputs": [
    {
     "data": {
      "text/plain": [
       "5.761944116355173"
      ]
     },
     "execution_count": 8,
     "metadata": {},
     "output_type": "execute_result"
    }
   ],
   "source": [
    "grades.std()"
   ]
  },
  {
   "cell_type": "code",
   "execution_count": 9,
   "id": "0508558c-fb00-4b4e-9edf-35a4c2a1364b",
   "metadata": {},
   "outputs": [
    {
     "data": {
      "text/plain": [
       "count     5.000000\n",
       "mean     90.200000\n",
       "std       5.761944\n",
       "min      82.000000\n",
       "25%      88.000000\n",
       "50%      90.000000\n",
       "75%      94.000000\n",
       "max      97.000000\n",
       "dtype: float64"
      ]
     },
     "execution_count": 9,
     "metadata": {},
     "output_type": "execute_result"
    }
   ],
   "source": [
    "grades.describe()"
   ]
  },
  {
   "cell_type": "markdown",
   "id": "195935eb-6236-45fa-b243-e5f73d0f0db4",
   "metadata": {},
   "source": [
    "## Task 2 - Series from Dictionary"
   ]
  },
  {
   "cell_type": "code",
   "execution_count": 10,
   "id": "cd96fe79-43f4-42ec-b46a-21c86808aed8",
   "metadata": {},
   "outputs": [
    {
     "data": {
      "text/plain": [
       "Wally     87\n",
       "Eva      100\n",
       "Sam       94\n",
       "dtype: int64"
      ]
     },
     "execution_count": 10,
     "metadata": {},
     "output_type": "execute_result"
    }
   ],
   "source": [
    "# Initialize series from a dictionary\n",
    "grades = pd.Series({'Wally': 87, 'Eva': 100, 'Sam': 94})\n",
    "grades"
   ]
  },
  {
   "cell_type": "code",
   "execution_count": 11,
   "id": "61caeb5f-ae4b-456e-a1de-a715dd17f1a0",
   "metadata": {},
   "outputs": [
    {
     "data": {
      "text/plain": [
       "100"
      ]
     },
     "execution_count": 11,
     "metadata": {},
     "output_type": "execute_result"
    }
   ],
   "source": [
    "# Get Eva's grade\n",
    "grades['Eva']"
   ]
  },
  {
   "cell_type": "code",
   "execution_count": 12,
   "id": "98747881-58c5-4dc0-8c14-59bd5b68e2a4",
   "metadata": {},
   "outputs": [
    {
     "data": {
      "text/plain": [
       "87"
      ]
     },
     "execution_count": 12,
     "metadata": {},
     "output_type": "execute_result"
    }
   ],
   "source": [
    "# Get Wally's grade\n",
    "grades.Wally"
   ]
  },
  {
   "cell_type": "code",
   "execution_count": 13,
   "id": "7951e102-e9ea-4fcb-93bd-44ba323f66d5",
   "metadata": {},
   "outputs": [
    {
     "data": {
      "text/plain": [
       "array([ 87, 100,  94])"
      ]
     },
     "execution_count": 13,
     "metadata": {},
     "output_type": "execute_result"
    }
   ],
   "source": [
    "# Display array of values\n",
    "grades.values"
   ]
  },
  {
   "cell_type": "markdown",
   "id": "535dbc1e-1e2b-4fe5-9ca2-af0a932cb5ec",
   "metadata": {},
   "source": [
    "#### Self Check (pg. 266)"
   ]
  },
  {
   "cell_type": "code",
   "execution_count": 14,
   "id": "f1c20bea-f0fc-4ed1-9684-6e8ed7a09a44",
   "metadata": {},
   "outputs": [],
   "source": [
    "# Create an array of 5 random integers in the range 60-100\n",
    "import numpy as np\n",
    "\n",
    "temps = np.random.randint(60, 101, 5)"
   ]
  },
  {
   "cell_type": "code",
   "execution_count": 15,
   "id": "5e1b1889-ed4b-418a-8cb7-f0979c033226",
   "metadata": {},
   "outputs": [
    {
     "data": {
      "text/plain": [
       "0    72\n",
       "1    62\n",
       "2    60\n",
       "3    73\n",
       "4    74\n",
       "dtype: int64"
      ]
     },
     "execution_count": 15,
     "metadata": {},
     "output_type": "execute_result"
    }
   ],
   "source": [
    "# Convert array into a Series named temperatures and display it\n",
    "temperatures = pd.Series(temps)\n",
    "temperatures"
   ]
  },
  {
   "cell_type": "code",
   "execution_count": 16,
   "id": "5ea1f0b9-0535-4758-90cf-395de2ab7000",
   "metadata": {},
   "outputs": [
    {
     "data": {
      "text/plain": [
       "60"
      ]
     },
     "execution_count": 16,
     "metadata": {},
     "output_type": "execute_result"
    }
   ],
   "source": [
    "# Determine highest, lowest, and average temps\n",
    "temperatures.min()"
   ]
  },
  {
   "cell_type": "code",
   "execution_count": 17,
   "id": "370d883b-18c7-4b97-b257-7efba83cf14d",
   "metadata": {},
   "outputs": [
    {
     "data": {
      "text/plain": [
       "74"
      ]
     },
     "execution_count": 17,
     "metadata": {},
     "output_type": "execute_result"
    }
   ],
   "source": [
    "temperatures.max()"
   ]
  },
  {
   "cell_type": "code",
   "execution_count": 18,
   "id": "c378b05b-f6d5-42a1-84d7-322818349d91",
   "metadata": {},
   "outputs": [
    {
     "data": {
      "text/plain": [
       "68.2"
      ]
     },
     "execution_count": 18,
     "metadata": {},
     "output_type": "execute_result"
    }
   ],
   "source": [
    "temperatures.mean()"
   ]
  },
  {
   "cell_type": "code",
   "execution_count": 19,
   "id": "3ee56b90-e38c-4bcb-8b38-286ce5d5dbaf",
   "metadata": {},
   "outputs": [
    {
     "data": {
      "text/plain": [
       "count     5.000000\n",
       "mean     68.200000\n",
       "std       6.648308\n",
       "min      60.000000\n",
       "25%      62.000000\n",
       "50%      72.000000\n",
       "75%      73.000000\n",
       "max      74.000000\n",
       "dtype: float64"
      ]
     },
     "execution_count": 19,
     "metadata": {},
     "output_type": "execute_result"
    }
   ],
   "source": [
    "# Get descriptive statistics for the Series\n",
    "temperatures.describe()"
   ]
  },
  {
   "cell_type": "code",
   "execution_count": null,
   "id": "3f248ffa-13ba-4608-bc4c-46b7fa6191cf",
   "metadata": {},
   "outputs": [],
   "source": []
  }
 ],
 "metadata": {
  "kernelspec": {
   "display_name": "Python 3 (ipykernel)",
   "language": "python",
   "name": "python3"
  },
  "language_info": {
   "codemirror_mode": {
    "name": "ipython",
    "version": 3
   },
   "file_extension": ".py",
   "mimetype": "text/x-python",
   "name": "python",
   "nbconvert_exporter": "python",
   "pygments_lexer": "ipython3",
   "version": "3.9.12"
  }
 },
 "nbformat": 4,
 "nbformat_minor": 5
}
